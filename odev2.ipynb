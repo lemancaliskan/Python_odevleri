{
 "cells": [
  {
   "cell_type": "code",
   "id": "initial_id",
   "metadata": {
    "collapsed": true,
    "ExecuteTime": {
     "end_time": "2025-10-09T19:35:10.131872Z",
     "start_time": "2025-10-09T19:34:56.796705Z"
    }
   },
   "source": [
    "### Bölüm 1: Sorular ###\n",
    "##Kolay Seviye Sorular##\n",
    "\n",
    "## /* 1. Listedeki En Büyük Sayıyı Bulma */ ##\n",
    "def en_buyuk_sayi(liste):\n",
    "    en_buyuk = liste[0]\n",
    "    for sayi in liste:\n",
    "        if sayi > en_buyuk:\n",
    "            en_buyuk = sayi\n",
    "    return en_buyuk\n",
    "\n",
    "\n",
    "girdi = input(\"Tamsayılardan oluşan bir liste girin (örnek: 7,9,20): \")\n",
    "\n",
    "if not girdi.strip():\n",
    "    print(\"Hata! En az bir sayı girin.\")\n",
    "else:\n",
    "    liste = [int(x.strip()) for x in girdi.split(\",\")]\n",
    "\n",
    "    print(\"En büyük sayı:\", en_buyuk_sayi(liste))\n"
   ],
   "outputs": [
    {
     "name": "stdout",
     "output_type": "stream",
     "text": [
      "En büyük sayı: 93\n"
     ]
    }
   ],
   "execution_count": 19
  },
  {
   "metadata": {},
   "cell_type": "code",
   "outputs": [],
   "execution_count": null,
   "source": [
    "## /* 2. String'i Ters Çevirme */ ##\n",
    "def string_ters_cevir(metin):\n",
    "    return metin[::-1]\n",
    "\n",
    "girdi = input(\"Bir metin girin: \")\n",
    "\n",
    "ters_girdi = string_ters_cevir(girdi)\n",
    "print(\"Ters metin:\", ters_girdi)\n"
   ],
   "id": "26e5d6bc384b2996"
  },
  {
   "metadata": {
    "ExecuteTime": {
     "end_time": "2025-10-09T19:29:46.587892Z",
     "start_time": "2025-10-09T19:29:41.906677Z"
    }
   },
   "cell_type": "code",
   "source": [
    "## /* 3. Faktöriyel Hesaplama */ ##\n",
    "\n",
    "def faktoriyel_hesapla(n):\n",
    "    if n < 0:\n",
    "        return \"Hata! Negatif sayı girildi!\"\n",
    "    elif n == 0 or n == 1:\n",
    "        return 1\n",
    "    else:\n",
    "        sonuc = 1\n",
    "        for i in range(2, n + 1):\n",
    "            sonuc *= i\n",
    "        return sonuc\n",
    "\n",
    "sayi = int(input(\"Bir tamsayı girin: \"))\n",
    "\n",
    "print(faktoriyel_hesapla(sayi))\n"
   ],
   "id": "b6f39e2f38f292e4",
   "outputs": [
    {
     "name": "stdout",
     "output_type": "stream",
     "text": [
      "120\n"
     ]
    }
   ],
   "execution_count": 17
  },
  {
   "metadata": {
    "ExecuteTime": {
     "end_time": "2025-10-09T19:33:07.696290Z",
     "start_time": "2025-10-09T19:32:55.982843Z"
    }
   },
   "cell_type": "code",
   "source": [
    "## /* 4. Listedeki Çift Sayıları Filtreleme */ ##\n",
    "\n",
    "def cift_sayilar(liste):\n",
    "\n",
    "    return [sayi for sayi in liste if sayi % 2 == 0]\n",
    "\n",
    "girdi = input(\"Tamsayılardan oluşan bir liste girin (örnek: 7,9,20): \")\n",
    "\n",
    "liste = [int(x.strip()) for x in girdi.split(\",\")]\n",
    "\n",
    "cift_liste = cift_sayilar(liste)\n",
    "print(\"Çift sayılar:\", cift_liste)\n",
    "\n"
   ],
   "id": "4f884d9f014dd408",
   "outputs": [
    {
     "name": "stdout",
     "output_type": "stream",
     "text": [
      "Çift sayılar: [8, 10, 22]\n"
     ]
    }
   ],
   "execution_count": 18
  },
  {
   "metadata": {
    "ExecuteTime": {
     "end_time": "2025-10-09T19:42:27.942126Z",
     "start_time": "2025-10-09T19:42:13.134034Z"
    }
   },
   "cell_type": "code",
   "source": [
    "## /* 5. İki Listenin Birleşimi ve Tekilleştirilmesi */ ##\n",
    "\n",
    "def birlestir_ve_tekillestir(liste1, liste2):\n",
    "        birlesik_liste = liste1 + liste2\n",
    "\n",
    "        tekil_liste = list(set(birlesik_liste))\n",
    "\n",
    "        return tekil_liste\n",
    "\n",
    "girdi1 = input(\"1. listeyi girin: (örnek: 7,9,20)\")\n",
    "girdi2 = input(\"2. listeyi girin: (örnek: 7,9,20)\")\n",
    "\n",
    "liste1 = [int(x.strip()) for x in girdi1.split(\",\")]\n",
    "liste2 = [int(x.strip()) for x in girdi2.split(\",\")]\n",
    "\n",
    "sonuc = birlestir_ve_tekillestir(liste1, liste2)\n",
    "print(\"Birleşik ve tekilleştirilmiş liste:\", sonuc)\n",
    "\n"
   ],
   "id": "ac502644337b21bb",
   "outputs": [
    {
     "name": "stdout",
     "output_type": "stream",
     "text": [
      "Birleşik ve tekilleştirilmiş liste: [7, 8, 9, 77, 20, 89, 93]\n"
     ]
    }
   ],
   "execution_count": 21
  },
  {
   "metadata": {
    "ExecuteTime": {
     "end_time": "2025-10-09T19:52:00.533231Z",
     "start_time": "2025-10-09T19:51:53.316260Z"
    }
   },
   "cell_type": "code",
   "source": [
    "##Orta Seviye Sorular##\n",
    "\n",
    "## /* 6. Palindrom Kontrolü */ ##\n",
    "\n",
    "def palindrom(metin):\n",
    "    metin = metin.lower()\n",
    "    metin = metin.replace(\" \", \"\")\n",
    "    return metin == metin[::-1]\n",
    "\n",
    "girdi = input(\"Metin girin: \")\n",
    "\n",
    "print(palindrom(girdi))\n",
    "\n"
   ],
   "id": "c9c99bfd45b98b1b",
   "outputs": [
    {
     "name": "stdout",
     "output_type": "stream",
     "text": [
      "False\n"
     ]
    }
   ],
   "execution_count": 25
  },
  {
   "metadata": {
    "ExecuteTime": {
     "end_time": "2025-10-09T19:53:29.286409Z",
     "start_time": "2025-10-09T19:53:20.321478Z"
    }
   },
   "cell_type": "code",
   "source": [
    "## /* 7. İki Sayının En Büyük Ortak Böleni (EBOB) */##\n",
    "\n",
    "def ebob(a, b):\n",
    "    while b != 0:\n",
    "        a, b = b, a % b\n",
    "    return a\n",
    "\n",
    "sayi1 = int(input(\"1. pozitif tamsayıyı girin: \"))\n",
    "sayi2 = int(input(\"2. pozitif tamsayıyı girin: \"))\n",
    "\n",
    "print(\"EBOB:\", ebob(sayi1, sayi2))\n"
   ],
   "id": "3b3b5e9bf0824ea4",
   "outputs": [
    {
     "name": "stdout",
     "output_type": "stream",
     "text": [
      "EBOB: 20\n"
     ]
    }
   ],
   "execution_count": 28
  },
  {
   "metadata": {
    "ExecuteTime": {
     "end_time": "2025-10-09T19:58:12.117776Z",
     "start_time": "2025-10-09T19:58:03.445796Z"
    }
   },
   "cell_type": "code",
   "source": [
    "## /* 8. Anagram Kontrolü */ ##\n",
    "\n",
    "def anagram(metin1, metin2):\n",
    "\n",
    "    metin1 = metin1.replace(\" \", \"\").lower()\n",
    "    metin2 = metin2.replace(\" \", \"\").lower()\n",
    "\n",
    "    return sorted(metin1) == sorted(metin2)\n",
    "\n",
    "s1 = input(\"1. metni girin: \")\n",
    "s2 = input(\"2. metni girin: \")\n",
    "\n",
    "print(anagram(s1, s2))"
   ],
   "id": "1acc8929a1b03eda",
   "outputs": [
    {
     "name": "stdout",
     "output_type": "stream",
     "text": [
      "True\n"
     ]
    }
   ],
   "execution_count": 31
  },
  {
   "metadata": {
    "ExecuteTime": {
     "end_time": "2025-10-09T20:07:22.885524Z",
     "start_time": "2025-10-09T20:07:10.641949Z"
    }
   },
   "cell_type": "code",
   "source": [
    "## /* 9. Listedeki Eksik Sayıyı Bulma */ ##\n",
    "\n",
    "def eksik_sayi (liste):\n",
    "    n = max(liste) + 1\n",
    "    toplam_gercek = n * (n + 1) // 2\n",
    "    toplam_liste = sum(liste)\n",
    "    return toplam_gercek - toplam_liste\n",
    "\n",
    "girdi = input(\"1'den N'e kadar (bir tanesi eksik) ardışık sayılar girin (örnek: 1 2 4 5): \")\n",
    "\n",
    "liste = [int(x.strip()) for x in girdi.split(\",\")]\n",
    "\n",
    "print(\"Eksik sayı:\", eksik_sayi(liste))\n"
   ],
   "id": "93d8c4176e1d253b",
   "outputs": [
    {
     "name": "stdout",
     "output_type": "stream",
     "text": [
      "Eksik sayı: 6\n"
     ]
    }
   ],
   "execution_count": 41
  },
  {
   "metadata": {
    "ExecuteTime": {
     "end_time": "2025-10-09T20:11:08.548679Z",
     "start_time": "2025-10-09T20:10:21.136606Z"
    }
   },
   "cell_type": "code",
   "source": [
    "## /* 10. Listeyi Belirli Bir Değere Göre Döndürme (Rotate) */ ##\n",
    "\n",
    "def listeyi_dondur(liste, k):\n",
    "    n = len(liste)\n",
    "    if n == 0:\n",
    "        return liste\n",
    "\n",
    "    k = k % n\n",
    "    return liste[-k:] + liste[:-k]\n",
    "\n",
    "girdi = input(\"Listeyi girin (örnek: 7,9,20): \")\n",
    "liste = [int(x.strip()) for x in girdi.split(\",\")]\n",
    "\n",
    "k = int(input(\"Döndürme adımını (k) girin: \"))\n",
    "\n",
    "print(\"Döndürülmüş liste:\", listeyi_dondur(liste, k))"
   ],
   "id": "84215c99a7c64b1a",
   "outputs": [
    {
     "name": "stdout",
     "output_type": "stream",
     "text": [
      "Döndürülmüş liste: [9, 20, 7, 8]\n"
     ]
    }
   ],
   "execution_count": 42
  }
 ],
 "metadata": {
  "kernelspec": {
   "display_name": "Python 3",
   "language": "python",
   "name": "python3"
  },
  "language_info": {
   "codemirror_mode": {
    "name": "ipython",
    "version": 2
   },
   "file_extension": ".py",
   "mimetype": "text/x-python",
   "name": "python",
   "nbconvert_exporter": "python",
   "pygments_lexer": "ipython2",
   "version": "2.7.6"
  }
 },
 "nbformat": 4,
 "nbformat_minor": 5
}
