{
 "cells": [
  {
   "cell_type": "code",
   "id": "initial_id",
   "metadata": {
    "collapsed": true,
    "ExecuteTime": {
     "end_time": "2025-10-09T19:35:10.131872Z",
     "start_time": "2025-10-09T19:34:56.796705Z"
    }
   },
   "source": [
    "### Bölüm 1: Sorular ###\n",
    "##Kolay Seviye Sorular##\n",
    "\n",
    "## /* 1. Listedeki En Büyük Sayıyı Bulma */ ##\n",
    "def en_buyuk_sayi(liste):\n",
    "    en_buyuk = liste[0]\n",
    "    for sayi in liste:\n",
    "        if sayi > en_buyuk:\n",
    "            en_buyuk = sayi\n",
    "    return en_buyuk\n",
    "\n",
    "\n",
    "girdi = input(\"Tamsayılardan oluşan bir liste girin (örnek: 7,9,20): \")\n",
    "\n",
    "if not girdi.strip():\n",
    "    print(\"Hata! En az bir sayı girin.\")\n",
    "else:\n",
    "    liste = [int(x.strip()) for x in girdi.split(\",\")]\n",
    "\n",
    "    print(\"En büyük sayı: \", en_buyuk_sayi(liste))\n"
   ],
   "outputs": [
    {
     "name": "stdout",
     "output_type": "stream",
     "text": [
      "En büyük sayı: 93\n"
     ]
    }
   ],
   "execution_count": 19
  },
  {
   "metadata": {},
   "cell_type": "code",
   "outputs": [],
   "execution_count": null,
   "source": [
    "## /* 2. String'i Ters Çevirme */ ##\n",
    "def string_ters_cevir(metin):\n",
    "    return metin[::-1]\n",
    "\n",
    "girdi = input(\"Bir metin girin: \")\n",
    "\n",
    "ters_girdi = string_ters_cevir(girdi)\n",
    "print(\"Ters metin: \", ters_girdi)\n"
   ],
   "id": "26e5d6bc384b2996"
  },
  {
   "metadata": {
    "ExecuteTime": {
     "end_time": "2025-10-09T19:29:46.587892Z",
     "start_time": "2025-10-09T19:29:41.906677Z"
    }
   },
   "cell_type": "code",
   "source": [
    "## /* 3. Faktöriyel Hesaplama */ ##\n",
    "\n",
    "def faktoriyel_hesapla(n):\n",
    "    if n < 0:\n",
    "        return \"Hata! Negatif sayı girildi!\"\n",
    "    elif n == 0 or n == 1:\n",
    "        return 1\n",
    "    else:\n",
    "        sonuc = 1\n",
    "        for i in range(2, n + 1):\n",
    "            sonuc *= i\n",
    "        return sonuc\n",
    "\n",
    "sayi = int(input(\"Bir tamsayı girin: \"))\n",
    "\n",
    "print(faktoriyel_hesapla(sayi))\n"
   ],
   "id": "b6f39e2f38f292e4",
   "outputs": [
    {
     "name": "stdout",
     "output_type": "stream",
     "text": [
      "120\n"
     ]
    }
   ],
   "execution_count": 17
  },
  {
   "metadata": {
    "ExecuteTime": {
     "end_time": "2025-10-09T19:33:07.696290Z",
     "start_time": "2025-10-09T19:32:55.982843Z"
    }
   },
   "cell_type": "code",
   "source": [
    "## /* 4. Listedeki Çift Sayıları Filtreleme */ ##\n",
    "\n",
    "def cift_sayilar(liste):\n",
    "\n",
    "    return [sayi for sayi in liste if sayi % 2 == 0]\n",
    "\n",
    "girdi = input(\"Tamsayılardan oluşan bir liste girin (örnek: 7,9,20): \")\n",
    "\n",
    "liste = [int(x.strip()) for x in girdi.split(\",\")]\n",
    "\n",
    "cift_liste = cift_sayilar(liste)\n",
    "print(\"Çift sayılar:\", cift_liste)\n",
    "\n"
   ],
   "id": "4f884d9f014dd408",
   "outputs": [
    {
     "name": "stdout",
     "output_type": "stream",
     "text": [
      "Çift sayılar: [8, 10, 22]\n"
     ]
    }
   ],
   "execution_count": 18
  },
  {
   "metadata": {
    "ExecuteTime": {
     "end_time": "2025-10-09T19:42:27.942126Z",
     "start_time": "2025-10-09T19:42:13.134034Z"
    }
   },
   "cell_type": "code",
   "source": [
    "## /* 5. İki Listenin Birleşimi ve Tekilleştirilmesi */ ##\n",
    "\n",
    "def birlestir_ve_tekillestir(liste1, liste2):\n",
    "        birlesik_liste = liste1 + liste2\n",
    "\n",
    "        tekil_liste = list(set(birlesik_liste))\n",
    "\n",
    "        return tekil_liste\n",
    "\n",
    "girdi1 = input(\"1. listeyi girin: (örnek: 7,9,20)\")\n",
    "girdi2 = input(\"2. listeyi girin: (örnek: 7,9,20)\")\n",
    "\n",
    "liste1 = [int(x.strip()) for x in girdi1.split(\",\")]\n",
    "liste2 = [int(x.strip()) for x in girdi2.split(\",\")]\n",
    "\n",
    "sonuc = birlestir_ve_tekillestir(liste1, liste2)\n",
    "print(\"Birleşik ve tekilleştirilmiş liste:\", sonuc)\n",
    "\n"
   ],
   "id": "ac502644337b21bb",
   "outputs": [
    {
     "name": "stdout",
     "output_type": "stream",
     "text": [
      "Birleşik ve tekilleştirilmiş liste: [7, 8, 9, 77, 20, 89, 93]\n"
     ]
    }
   ],
   "execution_count": 21
  },
  {
   "metadata": {
    "ExecuteTime": {
     "end_time": "2025-10-09T19:52:00.533231Z",
     "start_time": "2025-10-09T19:51:53.316260Z"
    }
   },
   "cell_type": "code",
   "source": [
    "##Orta Seviye Sorular##\n",
    "\n",
    "## /* 6. Palindrom Kontrolü */ ##\n",
    "\n",
    "def palindrom(metin):\n",
    "    metin = metin.lower()\n",
    "    metin = metin.replace(\" \", \"\")\n",
    "    return metin == metin[::-1]\n",
    "\n",
    "girdi = input(\"Metin girin: \")\n",
    "\n",
    "print(palindrom(girdi))\n",
    "\n"
   ],
   "id": "c9c99bfd45b98b1b",
   "outputs": [
    {
     "name": "stdout",
     "output_type": "stream",
     "text": [
      "False\n"
     ]
    }
   ],
   "execution_count": 25
  },
  {
   "metadata": {
    "ExecuteTime": {
     "end_time": "2025-10-09T19:53:29.286409Z",
     "start_time": "2025-10-09T19:53:20.321478Z"
    }
   },
   "cell_type": "code",
   "source": [
    "## /* 7. İki Sayının En Büyük Ortak Böleni (EBOB) */##\n",
    "\n",
    "def ebob(a, b):\n",
    "    while b != 0:\n",
    "        a, b = b, a % b\n",
    "    return a\n",
    "\n",
    "sayi1 = int(input(\"1. pozitif tamsayıyı girin: \"))\n",
    "sayi2 = int(input(\"2. pozitif tamsayıyı girin: \"))\n",
    "\n",
    "print(\"EBOB:\", ebob(sayi1, sayi2))\n"
   ],
   "id": "3b3b5e9bf0824ea4",
   "outputs": [
    {
     "name": "stdout",
     "output_type": "stream",
     "text": [
      "EBOB: 20\n"
     ]
    }
   ],
   "execution_count": 28
  },
  {
   "metadata": {
    "ExecuteTime": {
     "end_time": "2025-10-09T19:58:12.117776Z",
     "start_time": "2025-10-09T19:58:03.445796Z"
    }
   },
   "cell_type": "code",
   "source": [
    "## /* 8. Anagram Kontrolü */ ##\n",
    "\n",
    "def anagram(metin1, metin2):\n",
    "\n",
    "    metin1 = metin1.replace(\" \", \"\").lower()\n",
    "    metin2 = metin2.replace(\" \", \"\").lower()\n",
    "\n",
    "    return sorted(metin1) == sorted(metin2)\n",
    "\n",
    "s1 = input(\"1. metni girin: \")\n",
    "s2 = input(\"2. metni girin: \")\n",
    "\n",
    "print(anagram(s1, s2))"
   ],
   "id": "1acc8929a1b03eda",
   "outputs": [
    {
     "name": "stdout",
     "output_type": "stream",
     "text": [
      "True\n"
     ]
    }
   ],
   "execution_count": 31
  },
  {
   "metadata": {
    "ExecuteTime": {
     "end_time": "2025-10-09T20:07:22.885524Z",
     "start_time": "2025-10-09T20:07:10.641949Z"
    }
   },
   "cell_type": "code",
   "source": [
    "## /* 9. Listedeki Eksik Sayıyı Bulma */ ##\n",
    "\n",
    "def eksik_sayi (liste):\n",
    "    n = max(liste) + 1\n",
    "    toplam_gercek = n * (n + 1) // 2\n",
    "    toplam_liste = sum(liste)\n",
    "    return toplam_gercek - toplam_liste\n",
    "\n",
    "girdi = input(\"1'den N'e kadar (bir tanesi eksik) ardışık sayılar girin (örnek: 1 2 4 5): \")\n",
    "\n",
    "liste = [int(x.strip()) for x in girdi.split(\",\")]\n",
    "\n",
    "print(\"Eksik sayı:\", eksik_sayi(liste))\n"
   ],
   "id": "93d8c4176e1d253b",
   "outputs": [
    {
     "name": "stdout",
     "output_type": "stream",
     "text": [
      "Eksik sayı: 6\n"
     ]
    }
   ],
   "execution_count": 41
  },
  {
   "metadata": {
    "ExecuteTime": {
     "end_time": "2025-10-09T20:11:08.548679Z",
     "start_time": "2025-10-09T20:10:21.136606Z"
    }
   },
   "cell_type": "code",
   "source": [
    "## /* 10. Listeyi Belirli Bir Değere Göre Döndürme (Rotate) */ ##\n",
    "\n",
    "def listeyi_dondur(liste, k):\n",
    "    n = len(liste)\n",
    "    if n == 0:\n",
    "        return liste\n",
    "\n",
    "    k = k % n\n",
    "    return liste[-k:] + liste[:-k]\n",
    "\n",
    "girdi = input(\"Listeyi girin (örnek: 7,9,20): \")\n",
    "liste = [int(x.strip()) for x in girdi.split(\",\")]\n",
    "\n",
    "k = int(input(\"Döndürme adımını girin: \"))\n",
    "\n",
    "print(\"Döndürülmüş liste:\", listeyi_dondur(liste, k))\n",
    "\n"
   ],
   "id": "84215c99a7c64b1a",
   "outputs": [
    {
     "name": "stdout",
     "output_type": "stream",
     "text": [
      "Döndürülmüş liste: [9, 20, 7, 8]\n"
     ]
    }
   ],
   "execution_count": 42
  },
  {
   "metadata": {
    "ExecuteTime": {
     "end_time": "2025-10-11T18:40:44.691874Z",
     "start_time": "2025-10-11T18:39:10.388143Z"
    }
   },
   "cell_type": "code",
   "source": [
    "## Zor Seviye Çözümleri ##\n",
    "## /* 11. İki Sıralı Listenin Medyanını Bulma */##\n",
    "\n",
    "def medyan_bul(liste1, liste2):\n",
    "\n",
    "    \"\"\"Kısa olan listeyi öne al\"\"\"\n",
    "    if len(liste1) > len(liste2):\n",
    "        liste1, liste2 = liste2, liste1\n",
    "\n",
    "    x = len(liste1)\n",
    "    y = len(liste2)\n",
    "    sol = 0\n",
    "    sag = x\n",
    "\n",
    "    \"\"\"Listeleri ortadan ikiye böl\"\"\"\n",
    "    while sol <= sag:\n",
    "        parcaX = (sol + sag) // 2\n",
    "        parcaY = (x + y + 1) // 2 - parcaX\n",
    "\n",
    "        \"\"\"out-of-bounds check: listenin sınırlarının dışına çıkmamayı sağlamak için\"\"\"\n",
    "        maxSolX = float(\"-inf\") if parcaX == 0 else liste1[parcaX - 1]\n",
    "        minSagX = float(\"inf\") if parcaX == x else liste1[parcaX]\n",
    "\n",
    "        maxSolY = float(\"-inf\") if parcaY == 0 else liste2[parcaY - 1]\n",
    "        minSagY = float(\"inf\") if parcaY == y else liste2[parcaY]\n",
    "\n",
    "        \"\"\"bölme noktası doğru mu kontrolü\"\"\"\n",
    "        if maxSolX <= minSagY and maxSolY <= minSagX:\n",
    "            if (x + y) % 2 == 0:\n",
    "                sol_max = max(maxSolX, maxSolY)\n",
    "                sag_min = min(minSagX, minSagY)\n",
    "                return (sol_max + sag_min) / 2\n",
    "            else:\n",
    "                \"\"\"tek ise ortadaki eleman medyan olur\"\"\"\n",
    "                return max(maxSolX, maxSolY)\n",
    "        elif maxSolX > minSagY:\n",
    "            sag = parcaX - 1\n",
    "        else:\n",
    "            sol = parcaX + 1\n",
    "\n",
    "girdi1 = input(\"Birinci listeyi girin: (örnek: 7,9,20)\")\n",
    "liste1 = [int(x.strip()) for x in girdi1.split(\",\")]\n",
    "girdi2 = input(\"Birinci listeyi girin: (örnek: 7,9,20)\")\n",
    "liste2 = [int(x.strip()) for x in girdi2.split(\",\")]\n",
    "\n",
    "liste1.sort()\n",
    "liste2.sort()\n",
    "\n",
    "print(\"Medyan:\", medyan_bul(liste1, liste2))\n"
   ],
   "id": "ac983e8d87d2269e",
   "outputs": [
    {
     "name": "stdout",
     "output_type": "stream",
     "text": [
      "Medyan: 22\n"
     ]
    }
   ],
   "execution_count": 2
  },
  {
   "metadata": {
    "ExecuteTime": {
     "end_time": "2025-10-11T18:57:19.420549Z",
     "start_time": "2025-10-11T18:57:16.991157Z"
    }
   },
   "cell_type": "code",
   "source": [
    "## /* 12. En Uzun Palindromik Alt String */ ##\n",
    "def en_uzun_palindrom(s):\n",
    "    \"\"\"Boş string kontrolü\"\"\"\n",
    "    if len(s) == 0:\n",
    "        return \"\"\n",
    "\n",
    "    \"\"\"Herhangi bir gerçek kelimenin uzunluğu boş string’den büyük olacak\"\"\"\n",
    "    \"\"\"Bu yüzden en_uzun değişkenini boş string olarak başlatıyoruz\"\"\"\n",
    "    en_uzun = \"\"\n",
    "\n",
    "    \"\"\"Her karakter ve her iki karakter arası için merkez\"\"\"\n",
    "    for i in range(len(s)):\n",
    "        \"\"\"Tek uzunluklu palindrom\"\"\"\n",
    "        tek = expand_center(s, i, i)\n",
    "        \"\"\"Çift uzunluklu palindrom\"\"\"\n",
    "        cift = expand_center(s, i, i + 1)\n",
    "\n",
    "        \"\"\"Hangisi daha uzun?\"\"\"\n",
    "        if len(tek) > len(en_uzun):\n",
    "            en_uzun = tek\n",
    "        if len(cift) > len(en_uzun):\n",
    "            en_uzun = cift\n",
    "\n",
    "    return en_uzun\n",
    "\n",
    "\n",
    "def expand_center(s, sol, sag):\n",
    "    \"\"\"Merkezden genişleyerek palindromu bulur\"\"\"\n",
    "    while sol >= 0 and sag < len(s) and s[sol] == s[sag]:\n",
    "        sol -= 1\n",
    "        sag += 1\n",
    "    \"\"\"sol ve sag bir adım fazla ilerlediği için düzelt\"\"\"\n",
    "    return s[sol+1:sag]\n",
    "\n",
    "\n",
    "metin = input(\"Bir metin girin: \")\n",
    "print(\"En uzun palindrom:\", en_uzun_palindrom(metin))\n"
   ],
   "id": "afe154a1cb060df0",
   "outputs": [
    {
     "name": "stdout",
     "output_type": "stream",
     "text": [
      "En uzun palindrom: bab\n"
     ]
    }
   ],
   "execution_count": 4
  },
  {
   "metadata": {},
   "cell_type": "code",
   "outputs": [],
   "execution_count": null,
   "source": "## /* 13. Kelime Merdiveni (Word Ladder) */ ##\n",
   "id": "35c8cfd123836b7d"
  },
  {
   "metadata": {
    "ExecuteTime": {
     "end_time": "2025-10-11T19:03:11.601639Z",
     "start_time": "2025-10-11T19:03:07.762691Z"
    }
   },
   "cell_type": "code",
   "source": [
    "## /* 14. Maksimum Alt Dizi Toplamı */ ##\n",
    "def en_buyuk_alt_dizi_toplam(dizi):\n",
    "    if len(dizi) == 0:\n",
    "        return 0\n",
    "    \"\"\"şimdiki alt dizinin toplamı\"\"\"\n",
    "    max_ending_here = dizi[0]\n",
    "    \"\"\"bugüne kadar bulunan maksimum toplam\"\"\"\n",
    "    max_so_far = dizi[0]\n",
    "\n",
    "    \"\"\"1. elemandan başla, tüm elemanları kontrol et\"\"\"\n",
    "    for i in range(1, len(dizi)):\n",
    "        \"\"\"Önceki toplam negatifse, yeni alt dizi başlat\"\"\"\n",
    "        max_ending_here = max(dizi[i], max_ending_here + dizi[i])\n",
    "        \"\"\"Şimdiye kadar bulunan maksimumu güncelle\"\"\"\n",
    "        max_so_far = max(max_so_far, max_ending_here)\n",
    "\n",
    "    return max_so_far\n",
    "\n",
    "\n",
    "girdi = input(\"Sayıları girin (örnek: 7,9,20): \")\n",
    "dizi = [int(x.strip()) for x in girdi.split(\",\")]\n",
    "\n",
    "print(\"En büyük alt dizi toplamı:\", en_buyuk_alt_dizi_toplam(dizi))\n"
   ],
   "id": "65a12da85a8b2d74",
   "outputs": [
    {
     "name": "stdout",
     "output_type": "stream",
     "text": [
      "En büyük alt dizi toplamı: 6\n"
     ]
    }
   ],
   "execution_count": 5
  },
  {
   "metadata": {
    "ExecuteTime": {
     "end_time": "2025-10-11T19:08:27.619999Z",
     "start_time": "2025-10-11T19:08:27.613316Z"
    }
   },
   "cell_type": "code",
   "source": [
    "## /* 15. Birleştirme Aralıkları (Merge Intervals) */ ##\n",
    "\n",
    "def birlestir_aralik(aralik):\n",
    "    \"\"\"Aralıkları birleştiren fonksiyon\"\"\"\n",
    "    if not aralik:\n",
    "        return []\n",
    "\n",
    "    \"\"\"Aralıkları başlangıç değerine göre sırala\"\"\"\n",
    "    aralik.sort(key=lambda x: x[0])\n",
    "\n",
    "    \"\"\"Sonuç listesi, ilk aralığı ekle\"\"\"\n",
    "    sonuc = [aralik[0]]\n",
    "\n",
    "    \"\"\"Diğer aralıkları kontrol et\"\"\"\n",
    "    for i in range(1, len(aralik)):\n",
    "        \"\"\"sonuç listesindeki son aralık\"\"\"\n",
    "        mevcut = sonuc[-1]\n",
    "        \"\"\"kontrol edilecek yeni aralık\"\"\"\n",
    "        yeni = aralik[i]\n",
    "\n",
    "        \"\"\"Çakışıyor mu? (yeni başlangıç <= mevcut bitiş)\"\"\"\n",
    "        if yeni[0] <= mevcut[1]:\n",
    "            \"\"\"Birleştir: mevcut aralığı güncelle\"\"\"\n",
    "            mevcut[1] = max(mevcut[1], yeni[1])\n",
    "        else:\n",
    "            \"\"\"Çakışmıyorsa yeni aralığı sonuç listesine ekle\"\"\"\n",
    "            sonuc.append(yeni)\n",
    "\n",
    "    \"\"\"Birleştirilmiş aralıkları döndür\"\"\"\n",
    "    return sonuc\n",
    "\n",
    "aralik = [[1,3],[2,6],[8,10],[15,18]]\n",
    "print(\"Birleştirilmiş aralıklar:\", birlestir_aralik(aralik))\n"
   ],
   "id": "44dbee422cb7acd2",
   "outputs": [
    {
     "name": "stdout",
     "output_type": "stream",
     "text": [
      "Birleştirilmiş aralıklar: [[1, 6], [8, 10], [15, 18]]\n"
     ]
    }
   ],
   "execution_count": 6
  },
  {
   "metadata": {},
   "cell_type": "code",
   "outputs": [],
   "execution_count": null,
   "source": [
    "### 11, 12, 14, 15. sorular \"Çözüm Kodları\" ve Copilot yardımıyla çözüldü. :)\n",
    "### 13. soru \"Çözüm Kodları\" ve Copilot yardımıyla bile çözülemedi :("
   ],
   "id": "efda48a49e6fda6e"
  }
 ],
 "metadata": {
  "kernelspec": {
   "display_name": "Python 3",
   "language": "python",
   "name": "python3"
  },
  "language_info": {
   "codemirror_mode": {
    "name": "ipython",
    "version": 2
   },
   "file_extension": ".py",
   "mimetype": "text/x-python",
   "name": "python",
   "nbconvert_exporter": "python",
   "pygments_lexer": "ipython2",
   "version": "2.7.6"
  }
 },
 "nbformat": 4,
 "nbformat_minor": 5
}
